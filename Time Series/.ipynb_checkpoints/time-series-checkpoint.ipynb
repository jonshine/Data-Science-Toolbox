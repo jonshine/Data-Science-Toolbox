{
 "cells": [
  {
   "cell_type": "markdown",
   "metadata": {},
   "source": [
    "# Introduction to Time Series Analysis\n",
    "\n",
    "In this notebook, we will introduce the basic concepts of time series analysis, including the definition of a time series, its components, and some initial visualizations using Python."
   ]
  },
  {
   "cell_type": "markdown",
   "metadata": {},
   "source": [
    "## What is a Time Series?\n",
    "\n",
    "A **time series** is a sequence of data points recorded (or measured) at successive points in time. It is used in various fields such as finance, economics, environmental science, and more."
   ]
  },
  {
   "cell_type": "markdown",
   "metadata": {},
   "source": [
    "## Components of a Time Series\n",
    "\n",
    "Time series data generally comprises several components:\n",
    "\n",
    "- **Trend**: The long-term progression of the series\n",
    "- **Seasonality**: Periodic fluctuations or patterns\n",
    "- **Cyclicality**: Fluctuations over a longer term that are not of fixed period\n",
    "- **Noise**: Random variation\n"
   ]
  },
  {
   "cell_type": "markdown",
   "metadata": {},
   "source": [
    "## Basic Time Series Plotting\n",
    "\n",
    "Let's generate and plot a synthetic time series that includes a trend, seasonality, and noise."
   ]
  },
  {
   "cell_type": "code",
   "execution_count": null,
   "metadata": {},
   "outputs": [],
   "source": [
    "import numpy as np\n",
    "import pandas as pd\n",
    "import matplotlib.pyplot as plt\n",
    "\n",
    "%matplotlib inline\n",
    "\n",
    "# Set the seed for reproducibility\n",
    "np.random.seed(42)\n",
    "\n",
    "# Generate a date range\n",
    "dates = pd.date_range(start='2020-01-01', periods=100, freq='D')\n",
    "\n",
    "# Create synthetic components\n",
    "trend = np.linspace(0, 10, 100)\n",
    "seasonality = 5 * np.sin(np.linspace(0, 3 * np.pi, 100))\n",
    "noise = np.random.normal(0, 1, 100)\n",
    "\n",
    "# Combine components to form the time series data\n",
    "data = trend + seasonality + noise\n",
    "\n",
    "# Create a DataFrame\n",
    "ts_df = pd.DataFrame({'Date': dates, 'Value': data}).set_index('Date')\n",
    "\n",
    "# Plot the time series\n",
    "plt.figure(figsize=(12,6))\n",
    "plt.plot(ts_df, label='Synthetic Time Series')\n",
    "plt.title('Synthetic Time Series Data')\n",
    "plt.xlabel('Date')\n",
    "plt.ylabel('Value')\n",
    "plt.legend()\n",
    "plt.show()"
   ]
  },
  {
   "cell_type": "markdown",
   "metadata": {},
   "source": [
    "## Stationarity and Transformations\n",
    "\n",
    "A stationary time series has statistical properties (such as mean and variance) that do not change over time. Many time series models assume stationarity. We can check for stationarity using tests like the **Augmented Dickey-Fuller (ADF)** test."
   ]
  },
  {
   "cell_type": "code",
   "execution_count": null,
   "metadata": {},
   "outputs": [],
   "source": [
    "from statsmodels.tsa.stattools import adfuller\n",
    "\n",
    "# Perform the Augmented Dickey-Fuller test\n",
    "result = adfuller(ts_df['Value'])\n",
    "print('ADF Statistic:', result[0])\n",
    "print('p-value:', result[1])\n",
    "\n",
    "if result[1] < 0.05:\n",
    "    print('The time series is likely stationary.')\n",
    "else:\n",
    "    print('The time series is likely non-stationary.')"
   ]
  },
  {
   "cell_type": "markdown",
   "metadata": {},
   "source": [
    "## Conclusion\n",
    "\n",
    "In this notebook, we covered the basics of time series analysis by defining what a time series is, discussing its key components, and demonstrating basic plotting and stationarity testing. This foundational understanding sets the stage for more advanced topics like time series decomposition, forecasting, and modeling."
   ]
  }
 ],
 "metadata": {
  "kernelspec": {
   "display_name": "Python 3",
   "language": "python",
   "name": "python3"
  },
  "language_info": {
   "name": "python",
   "version": "3.x"
  }
 },
 "nbformat": 4,
 "nbformat_minor": 2
}