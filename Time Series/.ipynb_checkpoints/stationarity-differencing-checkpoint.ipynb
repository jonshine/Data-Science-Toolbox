{
 "cells": [
  {
   "cell_type": "markdown",
   "metadata": {},
   "source": [
    "# Lesson 3: Stationarity and Differencing\n",
    "\n",
    "In this lesson, we discuss the concept of stationarity in time series data, why it is important, and how differencing can be used to achieve stationarity. We will also see how to test for stationarity using the Augmented Dickey-Fuller (ADF) test."
   ]
  },
  {
   "cell_type": "markdown",
   "metadata": {},
   "source": [
    "## What is Stationarity?\n",
    "\n",
    "A time series is **stationary** if its statistical properties—such as mean, variance, and autocorrelation—remain constant over time. Stationarity is a key assumption for many time series models because it simplifies the modeling and forecasting process."
   ]
  },
  {
   "cell_type": "markdown",
   "metadata": {},
   "source": [
    "## Testing for Stationarity\n",
    "\n",
    "One common method to test for stationarity is the **Augmented Dickey-Fuller (ADF) test**. The null hypothesis of the ADF test is that the series has a unit root (i.e., it is non-stationary). A p-value less than 0.05 generally indicates that the series is stationary."
   ]
  },
  {
   "cell_type": "markdown",
   "metadata": {},
   "source": [
    "## Creating a Non-Stationary Series\n",
    "\n",
    "For demonstration purposes, we will create a synthetic non-stationary time series using a random walk process."
   ]
  },
  {
   "cell_type": "code",
   "execution_count": null,
   "metadata": {},
   "outputs": [],
   "source": [
    "import numpy as np\n",
    "import pandas as pd\n",
    "import matplotlib.pyplot as plt\n",
    "from statsmodels.tsa.stattools import adfuller\n",
    "\n",
    "%matplotlib inline\n",
    "\n",
    "# Set seed for reproducibility\n",
    "np.random.seed(42)\n",
    "\n",
    "# Generate a random walk (non-stationary series)\n",
    "n = 100\n",
    "steps = np.random.normal(loc=0, scale=1, size=n)\n",
    "random_walk = np.cumsum(steps)  # cumulative sum to simulate a random walk\n",
    "\n",
    "# Create a date range\n",
    "dates = pd.date_range(start='2020-01-01', periods=n, freq='D')\n",
    "\n",
    "# Build the DataFrame\n",
    "df = pd.DataFrame({'Date': dates, 'Value': random_walk}).set_index('Date')\n",
    "\n",
    "# Plot the non-stationary series\n",
    "plt.figure(figsize=(12,6))\n",
    "plt.plot(df, label='Random Walk')\n",
    "plt.title('Non-Stationary Time Series (Random Walk)')\n",
    "plt.xlabel('Date')\n",
    "plt.ylabel('Value')\n",
    "plt.legend()\n",
    "plt.show()"
   ]
  },
  {
   "cell_type": "markdown",
   "metadata": {},
   "source": [
    "## ADF Test on the Original Series\n",
    "\n",
    "Now, let's apply the Augmented Dickey-Fuller test to our random walk to check for stationarity."
   ]
  },
  {
   "cell_type": "code",
   "execution_count": null,
   "metadata": {},
   "outputs": [],
   "source": [
    "# Perform the ADF test\n",
    "result = adfuller(df['Value'])\n",
    "print('ADF Statistic: %f' % result[0])\n",
    "print('p-value: %f' % result[1])\n",
    "\n",
    "if result[1] < 0.05:\n",
    "    print('The series is likely stationary.')\n",
    "else:\n",
    "    print('The series is likely non-stationary.')"
   ]
  },
  {
   "cell_type": "markdown",
   "metadata": {},
   "source": [
    "## Differencing to Achieve Stationarity\n",
    "\n",
    "Differencing is a common technique used to remove trends and stabilize the mean of a time series. The **first-order difference** is calculated as the difference between consecutive observations. Let's compute and plot the first-order differenced series."
   ]
  },
  {
   "cell_type": "code",
   "execution_count": null,
   "metadata": {},
   "outputs": [],
   "source": [
    "# Compute the first-order difference\n",
    "df['Value_diff'] = df['Value'].diff()\n",
    "\n",
    "# Plot the differenced series\n",
    "plt.figure(figsize=(12,6))\n",
    "plt.plot(df['Value_diff'], label='First-Order Differenced Series', color='orange')\n",
    "plt.title('Differenced Time Series')\n",
    "plt.xlabel('Date')\n",
    "plt.ylabel('Difference in Value')\n",
    "plt.legend()\n",
    "plt.show()"
   ]
  },
  {
   "cell_type": "markdown",
   "metadata": {},
   "source": [
    "## ADF Test on the Differenced Series\n",
    "\n",
    "After differencing, we reapply the ADF test to check if the series has become stationary."
   ]
  },
  {
   "cell_type": "code",
   "execution_count": null,
   "metadata": {},
   "outputs": [],
   "source": [
    "# Remove missing values created by differencing\n",
    "df_diff = df['Value_diff'].dropna()\n",
    "\n",
    "# Perform the ADF test on the differenced series\n",
    "result_diff = adfuller(df_diff)\n",
    "print('ADF Statistic (Differenced): %f' % result_diff[0])\n",
    "print('p-value (Differenced): %f' % result_diff[1])\n",
    "\n",
    "if result_diff[1] < 0.05:\n",
    "    print('The differenced series is likely stationary.')\n",
    "else:\n",
    "    print('The differenced series is likely non-stationary.')"
   ]
  },
  {
   "cell_type": "markdown",
   "metadata": {},
   "source": [
    "## Conclusion\n",
    "\n",
    "In this lesson, we:\n",
    "\n",
    "- Discussed the concept of stationarity and its importance in time series analysis.\n",
    "- Created a synthetic non-stationary series (a random walk).\n",
    "- Applied the Augmented Dickey-Fuller test to assess stationarity.\n",
    "- Used differencing to transform a non-stationary series into a stationary one.\n",
    "\n",
    "Achieving stationarity is a crucial step before modeling and forecasting time series data."
   ]
  }
 ],
 "metadata": {
  "kernelspec": {
   "display_name": "Python 3",
   "language": "python",
   "name": "python3"
  },
  "language_info": {
   "name": "python",
   "version": "3.x"
  }
 },
 "nbformat": 4,
 "nbformat_minor": 2
}